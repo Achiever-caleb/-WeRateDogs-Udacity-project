{
 "cells": [
  {
   "cell_type": "markdown",
   "metadata": {},
   "source": [
    "# Data Wrangling Report"
   ]
  },
  {
   "cell_type": "markdown",
   "metadata": {},
   "source": [
    "## A brief report of the second udacity project by Caleb Okon"
   ]
  },
  {
   "cell_type": "markdown",
   "metadata": {},
   "source": [
    "### Introduction"
   ]
  },
  {
   "cell_type": "markdown",
   "metadata": {},
   "source": [
    "The aim of the Project is to assess my data wrangling ability, which includes;gathering data from variety of sources and in variety of formats, assess its quality and tidiness, then cleaning it.\n",
    "The dataset used for wrangling (and analyzing and visualizing) is the tweet archive of Twitter user @dog_rates, also known as WeRateDogs. WeRateDogs is a Twitter account that rates people's dogs with a humorous comment about the dog.\n"
   ]
  },
  {
   "cell_type": "markdown",
   "metadata": {},
   "source": [
    "### Project Details"
   ]
  },
  {
   "cell_type": "markdown",
   "metadata": {},
   "source": [
    "I used the udacity project work space for my work and i took the following steps to complete my work\n",
    "\n",
    "Gathering data - i gathered the data from multiple sources. i was asked to download the first data manually and upload it to my workspace, then download the second one programmatically using Request function and gather additional datas from Twitter API using tweepy. but at the time of sending this report, twitter is yet to approve my developers account so i went with the other option which is using an altenate file provided by UDACITY.\n",
    "\n",
    "Assessing data - After gathering all my data successfully, i proceeded to to assessing it in order to check for errors that need to be fixed. i assessed it using two method;\n",
    "  1. Visually: I viewed the 3 data set individually to spot out peculiar issues associated with it\n",
    "  2. Programmatically: I also used various fuctions like .shape(), .duplicated(), .value_counts(), .info() to check the datas.\n",
    "\n",
    "Cleaning data - I used the following format to clean the data:\n",
    "   1. Issues: this is where i state the particular problem i want to clean\n",
    "   2. Define: i stated how i intended to solve the problem here\n",
    "   3. Code: i insert my code here \n",
    "   4. test: here i put to test my code.\n",
    "   \n",
    "   for the first dataframe named 'df', i made the following cleaning effort\n",
    "   \n",
    "1. eliminated the in_reply_to_status_id,in_reply_to_user_id, expanded_urls, retweeted_status_id, retweeted_status_user_id and retweeted_status_timestamp columns, because they contain mostly missing values and also, i will not be needing them for my analysis.\n",
    "\n",
    "2. I also changed Tweet_id column which initially displays as INT64 and timestamp which initially displays as object, to Object and datetime datatype respectivel.\n",
    "\n",
    "3. i replaced those data where the dog names in the Name column are not names of dogswith \"None\"\n",
    "\n",
    "  For the second dataset with name 'df2'\n",
    "  \n",
    "1. I changed Tweet_id to string and I changed the output of columns p1, p2 and p3, which had inconsistent format prieviously all lower case.\n",
    "\n",
    "  for the third dataset \n",
    "\n",
    "1. I changed the Tweet_id column displays INT64 as datatype instead of Object\n",
    "\n",
    "i also tidied them up and finally merged them into one dataset.\n",
    "\n",
    "Storing Data: finally i stored the dataas a csv file named twitter_Archive_master.csv\n",
    "\n"
   ]
  },
  {
   "cell_type": "markdown",
   "metadata": {},
   "source": [
    "## Conclusion\n",
    "\n",
    "data wrangling takes a lot of work. since most data are usually dirty and untidy, if you want to get a good result, you must take out time to thoroughly wrangle it.\n",
    "\n",
    "\n",
    "this project helped polished my python skills and also fine tuned my data cleaning skills."
   ]
  }
 ],
 "metadata": {
  "kernelspec": {
   "display_name": "Python 3",
   "language": "python",
   "name": "python3"
  },
  "language_info": {
   "codemirror_mode": {
    "name": "ipython",
    "version": 3
   },
   "file_extension": ".py",
   "mimetype": "text/x-python",
   "name": "python",
   "nbconvert_exporter": "python",
   "pygments_lexer": "ipython3",
   "version": "3.6.3"
  }
 },
 "nbformat": 4,
 "nbformat_minor": 2
}
